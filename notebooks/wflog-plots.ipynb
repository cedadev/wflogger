{
 "cells": [
  {
   "cell_type": "markdown",
   "id": "b0520d3d-32d5-4ca1-ba7b-1f5be8d8eda3",
   "metadata": {},
   "source": [
    "# Plots from workflow logs\n",
    "\n",
    "This notebook demonstrates the use of `pandas` to analyse logs from the `wflogger` LOTUS workflow logging tool."
   ]
  },
  {
   "cell_type": "code",
   "execution_count": 1,
   "id": "432fff34-dcb7-47bc-ae37-8c8d28c4e838",
   "metadata": {},
   "outputs": [],
   "source": [
    "import sys\n",
    "sys.path.insert(0, \"..\")\n",
    "\n",
    "import wflogger.analysis as wfa\n",
    "\n",
    "# Reloading is required when developing the: wflogger.analysis library (but not in standard use)\n",
    "import importlib\n",
    "import wflogger.analysis\n",
    "wfa = importlib.reload(wflogger.analysis)"
   ]
  },
  {
   "cell_type": "markdown",
   "id": "46cebf4f-73d0-4970-b4d4-d5d4bb273e03",
   "metadata": {},
   "source": [
    "## Decide which workflow and tags you want to look at\n",
    "\n",
    "I want to compare two runs:\n"
   ]
  },
  {
   "cell_type": "code",
   "execution_count": 2,
   "id": "d71628dd-cebb-4bc3-83fb-40598b0b0f91",
   "metadata": {},
   "outputs": [],
   "source": [
    "sel_1 = {\n",
    "    \"workflow\": \"my-model-2\",\n",
    "    \"tag\": \"idl-version\"\n",
    "}\n",
    "\n",
    "sel_2 = {\n",
    "    \"workflow\": \"my-model-2\",\n",
    "    \"tag\": \"python-version\"\n",
    "}"
   ]
  },
  {
   "cell_type": "code",
   "execution_count": 3,
   "id": "74a42494-7ffc-41c0-bcc1-5f289205c740",
   "metadata": {},
   "outputs": [
    {
     "name": "stdout",
     "output_type": "stream",
     "text": [
      "Converted 800 records.\n",
      "Converted 1200 records.\n"
     ]
    }
   ],
   "source": [
    "df1 = wfa.get_results(workflow=sel_1[\"workflow\"], tag=sel_1[\"tag\"])\n",
    "df2 = wfa.get_results(workflow=sel_2[\"workflow\"], tag=sel_2[\"tag\"])"
   ]
  },
  {
   "cell_type": "code",
   "execution_count": 4,
   "id": "1dab7b04-2ccc-4739-981d-8eac692e1b79",
   "metadata": {
    "tags": []
   },
   "outputs": [
    {
     "data": {
      "text/html": [
       "<div>\n",
       "<style scoped>\n",
       "    .dataframe tbody tr th:only-of-type {\n",
       "        vertical-align: middle;\n",
       "    }\n",
       "\n",
       "    .dataframe tbody tr th {\n",
       "        vertical-align: top;\n",
       "    }\n",
       "\n",
       "    .dataframe thead th {\n",
       "        text-align: right;\n",
       "    }\n",
       "</style>\n",
       "<table border=\"1\" class=\"dataframe\">\n",
       "  <thead>\n",
       "    <tr style=\"text-align: right;\">\n",
       "      <th></th>\n",
       "      <th>id</th>\n",
       "      <th>user_id</th>\n",
       "      <th>hostname</th>\n",
       "      <th>workflow</th>\n",
       "      <th>tag</th>\n",
       "      <th>stage_number</th>\n",
       "      <th>stage</th>\n",
       "      <th>iteration</th>\n",
       "      <th>date_time</th>\n",
       "      <th>comment</th>\n",
       "      <th>flag</th>\n",
       "      <th>duration</th>\n",
       "    </tr>\n",
       "  </thead>\n",
       "  <tbody>\n",
       "    <tr>\n",
       "      <th>0</th>\n",
       "      <td>14335908</td>\n",
       "      <td>astephen</td>\n",
       "      <td>host073.jc.rl.ac.uk</td>\n",
       "      <td>my-model-2</td>\n",
       "      <td>python-version</td>\n",
       "      <td>1</td>\n",
       "      <td>start</td>\n",
       "      <td>1</td>\n",
       "      <td>2022-03-31 02:40:35.421799</td>\n",
       "      <td></td>\n",
       "      <td>-999</td>\n",
       "      <td>0.0</td>\n",
       "    </tr>\n",
       "    <tr>\n",
       "      <th>1</th>\n",
       "      <td>14335909</td>\n",
       "      <td>astephen</td>\n",
       "      <td>host073.jc.rl.ac.uk</td>\n",
       "      <td>my-model-2</td>\n",
       "      <td>python-version</td>\n",
       "      <td>2</td>\n",
       "      <td>read</td>\n",
       "      <td>1</td>\n",
       "      <td>2022-03-31 02:40:45.921799</td>\n",
       "      <td></td>\n",
       "      <td>-999</td>\n",
       "      <td>10.5</td>\n",
       "    </tr>\n",
       "    <tr>\n",
       "      <th>2</th>\n",
       "      <td>14335910</td>\n",
       "      <td>astephen</td>\n",
       "      <td>host073.jc.rl.ac.uk</td>\n",
       "      <td>my-model-2</td>\n",
       "      <td>python-version</td>\n",
       "      <td>3</td>\n",
       "      <td>process</td>\n",
       "      <td>1</td>\n",
       "      <td>2022-03-31 02:41:00.021799</td>\n",
       "      <td></td>\n",
       "      <td>-999</td>\n",
       "      <td>14.1</td>\n",
       "    </tr>\n",
       "    <tr>\n",
       "      <th>3</th>\n",
       "      <td>14335911</td>\n",
       "      <td>astephen</td>\n",
       "      <td>host073.jc.rl.ac.uk</td>\n",
       "      <td>my-model-2</td>\n",
       "      <td>python-version</td>\n",
       "      <td>4</td>\n",
       "      <td>summarise</td>\n",
       "      <td>1</td>\n",
       "      <td>2022-03-31 02:41:04.021799</td>\n",
       "      <td></td>\n",
       "      <td>-999</td>\n",
       "      <td>4.0</td>\n",
       "    </tr>\n",
       "    <tr>\n",
       "      <th>4</th>\n",
       "      <td>14335912</td>\n",
       "      <td>astephen</td>\n",
       "      <td>host519.jc.rl.ac.uk</td>\n",
       "      <td>my-model-2</td>\n",
       "      <td>python-version</td>\n",
       "      <td>1</td>\n",
       "      <td>start</td>\n",
       "      <td>2</td>\n",
       "      <td>2022-03-31 02:41:04.031799</td>\n",
       "      <td></td>\n",
       "      <td>-999</td>\n",
       "      <td>0.0</td>\n",
       "    </tr>\n",
       "  </tbody>\n",
       "</table>\n",
       "</div>"
      ],
      "text/plain": [
       "         id   user_id             hostname    workflow             tag  \\\n",
       "0  14335908  astephen  host073.jc.rl.ac.uk  my-model-2  python-version   \n",
       "1  14335909  astephen  host073.jc.rl.ac.uk  my-model-2  python-version   \n",
       "2  14335910  astephen  host073.jc.rl.ac.uk  my-model-2  python-version   \n",
       "3  14335911  astephen  host073.jc.rl.ac.uk  my-model-2  python-version   \n",
       "4  14335912  astephen  host519.jc.rl.ac.uk  my-model-2  python-version   \n",
       "\n",
       "   stage_number      stage  iteration                  date_time comment  \\\n",
       "0             1      start          1 2022-03-31 02:40:35.421799           \n",
       "1             2       read          1 2022-03-31 02:40:45.921799           \n",
       "2             3    process          1 2022-03-31 02:41:00.021799           \n",
       "3             4  summarise          1 2022-03-31 02:41:04.021799           \n",
       "4             1      start          2 2022-03-31 02:41:04.031799           \n",
       "\n",
       "   flag  duration  \n",
       "0  -999       0.0  \n",
       "1  -999      10.5  \n",
       "2  -999      14.1  \n",
       "3  -999       4.0  \n",
       "4  -999       0.0  "
      ]
     },
     "execution_count": 4,
     "metadata": {},
     "output_type": "execute_result"
    }
   ],
   "source": [
    "df2.head()"
   ]
  },
  {
   "cell_type": "code",
   "execution_count": 5,
   "id": "ea5612de-4876-4f30-bd30-127a7b75d87c",
   "metadata": {},
   "outputs": [],
   "source": [
    "wfa = importlib.reload(wflogger.analysis)"
   ]
  },
  {
   "cell_type": "markdown",
   "id": "e7ba53b7-bb21-4562-929a-0bb01ac5bd64",
   "metadata": {},
   "source": [
    "## Let's view the different tags in separate plots"
   ]
  },
  {
   "cell_type": "code",
   "execution_count": 7,
   "id": "209379c7-2145-44fd-ab2e-2f6ce2128572",
   "metadata": {},
   "outputs": [
    {
     "data": {
      "image/png": "[encoded data removed]",
      "text/plain": [
       "<Figure size 648x432 with 1 Axes>"
      ]
     },
     "metadata": {
      "needs_background": "light"
     },
     "output_type": "display_data"
    }
   ],
   "source": [
    "wfa.plot_stage_durations_by_iteration(df1)"
   ]
  },
  {
   "cell_type": "code",
   "execution_count": 8,
   "id": "86156273-c2f0-4e09-a608-b4b4cf7a69b7",
   "metadata": {},
   "outputs": [
    {
     "data": {
      "image/png": "[encoded data removed]",
      "text/plain": [
       "<Figure size 648x432 with 1 Axes>"
      ]
     },
     "metadata": {
      "needs_background": "light"
     },
     "output_type": "display_data"
    }
   ],
   "source": [
    "wfa.plot_stage_durations_by_iteration(df2)"
   ]
  },
  {
   "cell_type": "markdown",
   "id": "1b61a4ab-fde2-4e5d-9839-88b7bb781cd0",
   "metadata": {},
   "source": [
    "### Let's compare the maximum durations of each stage for each tag\n",
    "\n",
    "In order to view the differences better, we are plotting a log scale on the y-axis:"
   ]
  },
  {
   "cell_type": "code",
   "execution_count": 9,
   "id": "16c65133-1550-4760-b91e-c96e3a0b7f58",
   "metadata": {},
   "outputs": [
    {
     "data": {
      "image/png": "[encoded data removed]",
      "text/plain": [
       "<Figure size 864x432 with 1 Axes>"
      ]
     },
     "metadata": {
      "needs_background": "light"
     },
     "output_type": "display_data"
    }
   ],
   "source": [
    "wfa = importlib.reload(wflogger.analysis)\n",
    "wfa.plot_comparison_of_two_workflow_tags(df1, df2, \"max\", yscale=\"log\")"
   ]
  },
  {
   "cell_type": "markdown",
   "id": "5b9e2ee1-898b-408a-8abe-1fe9023a5309",
   "metadata": {},
   "source": [
    "### Let's look for outliers\n",
    "\n",
    "We can identify outliers as those beyond N standard deviations from the mean."
   ]
  },
  {
   "cell_type": "code",
   "execution_count": 10,
   "id": "be3d1f94-cc5e-4021-9d16-b1ac65072130",
   "metadata": {},
   "outputs": [],
   "source": [
    "import numpy as np\n",
    "\n",
    "def get_outliers(df, n_std_deviations=3):\n",
    "    return df[np.abs(df.duration - df.duration.mean()) <= (n_std_deviations * df.duration.std())]\n",
    "\n",
    "df1_outliers = get_outliers(df1)"
   ]
  },
  {
   "cell_type": "code",
   "execution_count": 11,
   "id": "10c68353-9d5d-48b6-be99-5959cff2009f",
   "metadata": {},
   "outputs": [
    {
     "name": "stdout",
     "output_type": "stream",
     "text": [
      "13.0\n",
      "14.824476439790578\n"
     ]
    }
   ],
   "source": [
    "df1_outliers.head()\n",
    "print(df1_outliers.iloc[3].duration)\n",
    "print(df1_outliers.duration.mean())"
   ]
  },
  {
   "cell_type": "markdown",
   "id": "ac271f80-70a2-4d2f-babe-0bddfec4b42b",
   "metadata": {},
   "source": [
    "Which hosts are the outliers on?"
   ]
  },
  {
   "cell_type": "code",
   "execution_count": 12,
   "id": "b94e265c-5b4f-43e3-972d-5c2ece905810",
   "metadata": {},
   "outputs": [
    {
     "name": "stdout",
     "output_type": "stream",
     "text": [
      "['host071.jc.rl.ac.uk', 'host074.jc.rl.ac.uk', 'host075.jc.rl.ac.uk', 'host080.jc.rl.ac.uk', 'host101.jc.rl.ac.uk', 'host102.jc.rl.ac.uk', 'host112.jc.rl.ac.uk', 'host113.jc.rl.ac.uk', 'host119.jc.rl.ac.uk', 'host121.jc.rl.ac.uk', 'host123.jc.rl.ac.uk', 'host125.jc.rl.ac.uk', 'host126.jc.rl.ac.uk', 'host128.jc.rl.ac.uk', 'host137.jc.rl.ac.uk', 'host141.jc.rl.ac.uk', 'host142.jc.rl.ac.uk', 'host150.jc.rl.ac.uk', 'host155.jc.rl.ac.uk', 'host165.jc.rl.ac.uk', 'host166.jc.rl.ac.uk', 'host169.jc.rl.ac.uk', 'host172.jc.rl.ac.uk', 'host174.jc.rl.ac.uk', 'host176.jc.rl.ac.uk', 'host179.jc.rl.ac.uk', 'host181.jc.rl.ac.uk', 'host182.jc.rl.ac.uk', 'host188.jc.rl.ac.uk', 'host198.jc.rl.ac.uk', 'host199.jc.rl.ac.uk', 'host200.jc.rl.ac.uk', 'host210.jc.rl.ac.uk', 'host219.jc.rl.ac.uk', 'host224.jc.rl.ac.uk', 'host233.jc.rl.ac.uk', 'host234.jc.rl.ac.uk', 'host236.jc.rl.ac.uk', 'host237.jc.rl.ac.uk', 'host241.jc.rl.ac.uk', 'host248.jc.rl.ac.uk', 'host249.jc.rl.ac.uk', 'host251.jc.rl.ac.uk', 'host253.jc.rl.ac.uk', 'host254.jc.rl.ac.uk', 'host259.jc.rl.ac.uk', 'host261.jc.rl.ac.uk', 'host267.jc.rl.ac.uk', 'host271.jc.rl.ac.uk', 'host273.jc.rl.ac.uk', 'host276.jc.rl.ac.uk', 'host283.jc.rl.ac.uk', 'host286.jc.rl.ac.uk', 'host290.jc.rl.ac.uk', 'host293.jc.rl.ac.uk', 'host298.jc.rl.ac.uk', 'host304.jc.rl.ac.uk', 'host311.jc.rl.ac.uk', 'host313.jc.rl.ac.uk', 'host319.jc.rl.ac.uk', 'host322.jc.rl.ac.uk', 'host323.jc.rl.ac.uk', 'host328.jc.rl.ac.uk', 'host330.jc.rl.ac.uk', 'host341.jc.rl.ac.uk', 'host342.jc.rl.ac.uk', 'host343.jc.rl.ac.uk', 'host348.jc.rl.ac.uk', 'host355.jc.rl.ac.uk', 'host358.jc.rl.ac.uk', 'host359.jc.rl.ac.uk', 'host371.jc.rl.ac.uk', 'host386.jc.rl.ac.uk', 'host388.jc.rl.ac.uk', 'host393.jc.rl.ac.uk', 'host401.jc.rl.ac.uk', 'host402.jc.rl.ac.uk', 'host404.jc.rl.ac.uk', 'host411.jc.rl.ac.uk', 'host415.jc.rl.ac.uk', 'host417.jc.rl.ac.uk', 'host422.jc.rl.ac.uk', 'host423.jc.rl.ac.uk', 'host425.jc.rl.ac.uk', 'host430.jc.rl.ac.uk', 'host431.jc.rl.ac.uk', 'host432.jc.rl.ac.uk', 'host433.jc.rl.ac.uk', 'host435.jc.rl.ac.uk', 'host438.jc.rl.ac.uk', 'host440.jc.rl.ac.uk', 'host443.jc.rl.ac.uk', 'host445.jc.rl.ac.uk', 'host447.jc.rl.ac.uk', 'host451.jc.rl.ac.uk', 'host453.jc.rl.ac.uk', 'host454.jc.rl.ac.uk', 'host463.jc.rl.ac.uk', 'host467.jc.rl.ac.uk', 'host471.jc.rl.ac.uk', 'host478.jc.rl.ac.uk', 'host482.jc.rl.ac.uk', 'host484.jc.rl.ac.uk', 'host489.jc.rl.ac.uk', 'host492.jc.rl.ac.uk', 'host493.jc.rl.ac.uk', 'host498.jc.rl.ac.uk', 'host499.jc.rl.ac.uk', 'host504.jc.rl.ac.uk', 'host506.jc.rl.ac.uk', 'host509.jc.rl.ac.uk', 'host510.jc.rl.ac.uk', 'host515.jc.rl.ac.uk', 'host517.jc.rl.ac.uk', 'host519.jc.rl.ac.uk', 'host527.jc.rl.ac.uk', 'host528.jc.rl.ac.uk', 'host531.jc.rl.ac.uk', 'host535.jc.rl.ac.uk', 'host536.jc.rl.ac.uk', 'host541.jc.rl.ac.uk', 'host542.jc.rl.ac.uk', 'host543.jc.rl.ac.uk', 'host547.jc.rl.ac.uk', 'host550.jc.rl.ac.uk', 'host555.jc.rl.ac.uk', 'host561.jc.rl.ac.uk', 'host562.jc.rl.ac.uk', 'host565.jc.rl.ac.uk', 'host566.jc.rl.ac.uk', 'host575.jc.rl.ac.uk', 'host577.jc.rl.ac.uk', 'host581.jc.rl.ac.uk', 'host582.jc.rl.ac.uk', 'host585.jc.rl.ac.uk', 'host588.jc.rl.ac.uk', 'host589.jc.rl.ac.uk', 'host594.jc.rl.ac.uk', 'host596.jc.rl.ac.uk', 'host598.jc.rl.ac.uk', 'host599.jc.rl.ac.uk', 'host600.jc.rl.ac.uk', 'host602.jc.rl.ac.uk', 'host605.jc.rl.ac.uk', 'host613.jc.rl.ac.uk', 'host623.jc.rl.ac.uk', 'host628.jc.rl.ac.uk', 'host631.jc.rl.ac.uk', 'host632.jc.rl.ac.uk', 'host633.jc.rl.ac.uk', 'host635.jc.rl.ac.uk', 'host638.jc.rl.ac.uk', 'host648.jc.rl.ac.uk', 'host650.jc.rl.ac.uk', 'host652.jc.rl.ac.uk', 'host655.jc.rl.ac.uk', 'host656.jc.rl.ac.uk', 'host659.jc.rl.ac.uk', 'host664.jc.rl.ac.uk', 'host668.jc.rl.ac.uk', 'host670.jc.rl.ac.uk', 'host681.jc.rl.ac.uk', 'host684.jc.rl.ac.uk', 'host690.jc.rl.ac.uk', 'host694.jc.rl.ac.uk', 'host700.jc.rl.ac.uk']\n"
     ]
    }
   ],
   "source": [
    "print(sorted(df1_outliers.hostname.unique()))"
   ]
  },
  {
   "cell_type": "code",
   "execution_count": 13,
   "id": "e28d9052-a1f4-4ced-ab90-a7a27a0dd687",
   "metadata": {},
   "outputs": [
    {
     "data": {
      "text/plain": [
       "host652.jc.rl.ac.uk    12\n",
       "host517.jc.rl.ac.uk    12\n",
       "host562.jc.rl.ac.uk    12\n",
       "host358.jc.rl.ac.uk    12\n",
       "host438.jc.rl.ac.uk     8\n",
       "                       ..\n",
       "host128.jc.rl.ac.uk     1\n",
       "host123.jc.rl.ac.uk     1\n",
       "host112.jc.rl.ac.uk     1\n",
       "host125.jc.rl.ac.uk     1\n",
       "host126.jc.rl.ac.uk     1\n",
       "Name: hostname, Length: 166, dtype: int64"
      ]
     },
     "execution_count": 13,
     "metadata": {},
     "output_type": "execute_result"
    }
   ],
   "source": [
    "df1_outliers[\"hostname\"].value_counts().sort_values(ascending=False)"
   ]
  },
  {
   "cell_type": "code",
   "execution_count": 15,
   "id": "403866d5-3725-4878-a76c-61284c91a70c",
   "metadata": {},
   "outputs": [
    {
     "data": {
      "text/html": [
       "<div>\n",
       "<style scoped>\n",
       "    .dataframe tbody tr th:only-of-type {\n",
       "        vertical-align: middle;\n",
       "    }\n",
       "\n",
       "    .dataframe tbody tr th {\n",
       "        vertical-align: top;\n",
       "    }\n",
       "\n",
       "    .dataframe thead th {\n",
       "        text-align: right;\n",
       "    }\n",
       "</style>\n",
       "<table border=\"1\" class=\"dataframe\">\n",
       "  <thead>\n",
       "    <tr style=\"text-align: right;\">\n",
       "      <th></th>\n",
       "      <th>hostname</th>\n",
       "      <th>duration</th>\n",
       "    </tr>\n",
       "  </thead>\n",
       "  <tbody>\n",
       "    <tr>\n",
       "      <th>362</th>\n",
       "      <td>host443.jc.rl.ac.uk</td>\n",
       "      <td>64.0</td>\n",
       "    </tr>\n",
       "    <tr>\n",
       "      <th>230</th>\n",
       "      <td>host402.jc.rl.ac.uk</td>\n",
       "      <td>52.0</td>\n",
       "    </tr>\n",
       "    <tr>\n",
       "      <th>26</th>\n",
       "      <td>host566.jc.rl.ac.uk</td>\n",
       "      <td>34.0</td>\n",
       "    </tr>\n",
       "    <tr>\n",
       "      <th>466</th>\n",
       "      <td>host319.jc.rl.ac.uk</td>\n",
       "      <td>34.0</td>\n",
       "    </tr>\n",
       "    <tr>\n",
       "      <th>722</th>\n",
       "      <td>host233.jc.rl.ac.uk</td>\n",
       "      <td>34.0</td>\n",
       "    </tr>\n",
       "    <tr>\n",
       "      <th>...</th>\n",
       "      <td>...</td>\n",
       "      <td>...</td>\n",
       "    </tr>\n",
       "    <tr>\n",
       "      <th>420</th>\n",
       "      <td>host234.jc.rl.ac.uk</td>\n",
       "      <td>0.0</td>\n",
       "    </tr>\n",
       "    <tr>\n",
       "      <th>416</th>\n",
       "      <td>host102.jc.rl.ac.uk</td>\n",
       "      <td>0.0</td>\n",
       "    </tr>\n",
       "    <tr>\n",
       "      <th>412</th>\n",
       "      <td>host126.jc.rl.ac.uk</td>\n",
       "      <td>0.0</td>\n",
       "    </tr>\n",
       "    <tr>\n",
       "      <th>408</th>\n",
       "      <td>host411.jc.rl.ac.uk</td>\n",
       "      <td>0.0</td>\n",
       "    </tr>\n",
       "    <tr>\n",
       "      <th>388</th>\n",
       "      <td>host652.jc.rl.ac.uk</td>\n",
       "      <td>0.0</td>\n",
       "    </tr>\n",
       "  </tbody>\n",
       "</table>\n",
       "<p>764 rows × 2 columns</p>\n",
       "</div>"
      ],
      "text/plain": [
       "                hostname  duration\n",
       "362  host443.jc.rl.ac.uk      64.0\n",
       "230  host402.jc.rl.ac.uk      52.0\n",
       "26   host566.jc.rl.ac.uk      34.0\n",
       "466  host319.jc.rl.ac.uk      34.0\n",
       "722  host233.jc.rl.ac.uk      34.0\n",
       "..                   ...       ...\n",
       "420  host234.jc.rl.ac.uk       0.0\n",
       "416  host102.jc.rl.ac.uk       0.0\n",
       "412  host126.jc.rl.ac.uk       0.0\n",
       "408  host411.jc.rl.ac.uk       0.0\n",
       "388  host652.jc.rl.ac.uk       0.0\n",
       "\n",
       "[764 rows x 2 columns]"
      ]
     },
     "execution_count": 15,
     "metadata": {},
     "output_type": "execute_result"
    }
   ],
   "source": [
    "df1_outliers.loc[:, [\"hostname\", \"duration\"]].sort_values(\"duration\", ascending=False)"
   ]
  },
  {
   "cell_type": "code",
   "execution_count": 17,
   "id": "93c236d1-0e78-407e-9802-50c809b5eeaf",
   "metadata": {},
   "outputs": [
    {
     "data": {
      "image/png": "[encoded data removed]",
      "text/plain": [
       "<Figure size 432x288 with 1 Axes>"
      ]
     },
     "metadata": {
      "needs_background": "light"
     },
     "output_type": "display_data"
    }
   ],
   "source": [
    "wfa.plot_bar_chart_comparing_tags(df1, df2)"
   ]
  },
  {
   "cell_type": "markdown",
   "id": "68861053-b373-4cfc-aa68-990ce55d5ca7",
   "metadata": {},
   "source": [
    "## Next thoughts\n",
    "\n",
    "Some things we can do with hostname:\n",
    " 1. Look at outliers and whether certain hosts are the problem\n",
    " 2. Add host groups to the dataframes:\n",
    "   - by architecture?\n",
    "   - by numbered groups: e.g. `host100-199`, `host200-299`, etc.\n",
    " 3. Then compare the durations by different groups."
   ]
  },
  {
   "cell_type": "code",
   "execution_count": 18,
   "id": "23ba1771-ce17-462b-a9a5-92462e1c8f26",
   "metadata": {},
   "outputs": [],
   "source": [
    "# some testing...\n",
    "def add_hostset_column(df):\n",
    "    df[\"hostset\"] = df[\"hostname\"].str[4] + \"00\"\n",
    "    \n",
    "add_hostset_column(df1)"
   ]
  },
  {
   "cell_type": "code",
   "execution_count": 19,
   "id": "1f4415f5-cd4d-46e6-bf8a-fd46bf9008e8",
   "metadata": {},
   "outputs": [
    {
     "data": {
      "text/html": [
       "<div>\n",
       "<style scoped>\n",
       "    .dataframe tbody tr th:only-of-type {\n",
       "        vertical-align: middle;\n",
       "    }\n",
       "\n",
       "    .dataframe tbody tr th {\n",
       "        vertical-align: top;\n",
       "    }\n",
       "\n",
       "    .dataframe thead th {\n",
       "        text-align: right;\n",
       "    }\n",
       "</style>\n",
       "<table border=\"1\" class=\"dataframe\">\n",
       "  <thead>\n",
       "    <tr style=\"text-align: right;\">\n",
       "      <th></th>\n",
       "      <th>id</th>\n",
       "      <th>user_id</th>\n",
       "      <th>hostname</th>\n",
       "      <th>workflow</th>\n",
       "      <th>tag</th>\n",
       "      <th>stage_number</th>\n",
       "      <th>stage</th>\n",
       "      <th>iteration</th>\n",
       "      <th>date_time</th>\n",
       "      <th>comment</th>\n",
       "      <th>flag</th>\n",
       "      <th>duration</th>\n",
       "      <th>hostset</th>\n",
       "    </tr>\n",
       "  </thead>\n",
       "  <tbody>\n",
       "    <tr>\n",
       "      <th>0</th>\n",
       "      <td>14335108</td>\n",
       "      <td>astephen</td>\n",
       "      <td>host575.jc.rl.ac.uk</td>\n",
       "      <td>my-model-2</td>\n",
       "      <td>idl-version</td>\n",
       "      <td>1</td>\n",
       "      <td>start</td>\n",
       "      <td>1</td>\n",
       "      <td>2022-03-30 21:54:09.961799</td>\n",
       "      <td></td>\n",
       "      <td>-999</td>\n",
       "      <td>0.0</td>\n",
       "      <td>500</td>\n",
       "    </tr>\n",
       "    <tr>\n",
       "      <th>1</th>\n",
       "      <td>14335109</td>\n",
       "      <td>astephen</td>\n",
       "      <td>host575.jc.rl.ac.uk</td>\n",
       "      <td>my-model-2</td>\n",
       "      <td>idl-version</td>\n",
       "      <td>2</td>\n",
       "      <td>read</td>\n",
       "      <td>1</td>\n",
       "      <td>2022-03-30 21:54:23.461799</td>\n",
       "      <td></td>\n",
       "      <td>-999</td>\n",
       "      <td>13.5</td>\n",
       "      <td>500</td>\n",
       "    </tr>\n",
       "    <tr>\n",
       "      <th>2</th>\n",
       "      <td>14335110</td>\n",
       "      <td>astephen</td>\n",
       "      <td>host575.jc.rl.ac.uk</td>\n",
       "      <td>my-model-2</td>\n",
       "      <td>idl-version</td>\n",
       "      <td>3</td>\n",
       "      <td>process</td>\n",
       "      <td>1</td>\n",
       "      <td>2022-03-30 21:54:54.361799</td>\n",
       "      <td></td>\n",
       "      <td>-999</td>\n",
       "      <td>30.9</td>\n",
       "      <td>500</td>\n",
       "    </tr>\n",
       "    <tr>\n",
       "      <th>3</th>\n",
       "      <td>14335111</td>\n",
       "      <td>astephen</td>\n",
       "      <td>host575.jc.rl.ac.uk</td>\n",
       "      <td>my-model-2</td>\n",
       "      <td>idl-version</td>\n",
       "      <td>4</td>\n",
       "      <td>summarise</td>\n",
       "      <td>1</td>\n",
       "      <td>2022-03-30 21:55:07.361799</td>\n",
       "      <td></td>\n",
       "      <td>-999</td>\n",
       "      <td>13.0</td>\n",
       "      <td>500</td>\n",
       "    </tr>\n",
       "    <tr>\n",
       "      <th>4</th>\n",
       "      <td>14335112</td>\n",
       "      <td>astephen</td>\n",
       "      <td>host493.jc.rl.ac.uk</td>\n",
       "      <td>my-model-2</td>\n",
       "      <td>idl-version</td>\n",
       "      <td>1</td>\n",
       "      <td>start</td>\n",
       "      <td>2</td>\n",
       "      <td>2022-03-30 21:55:10.161799</td>\n",
       "      <td></td>\n",
       "      <td>-999</td>\n",
       "      <td>0.0</td>\n",
       "      <td>400</td>\n",
       "    </tr>\n",
       "  </tbody>\n",
       "</table>\n",
       "</div>"
      ],
      "text/plain": [
       "         id   user_id             hostname    workflow          tag  \\\n",
       "0  14335108  astephen  host575.jc.rl.ac.uk  my-model-2  idl-version   \n",
       "1  14335109  astephen  host575.jc.rl.ac.uk  my-model-2  idl-version   \n",
       "2  14335110  astephen  host575.jc.rl.ac.uk  my-model-2  idl-version   \n",
       "3  14335111  astephen  host575.jc.rl.ac.uk  my-model-2  idl-version   \n",
       "4  14335112  astephen  host493.jc.rl.ac.uk  my-model-2  idl-version   \n",
       "\n",
       "   stage_number      stage  iteration                  date_time comment  \\\n",
       "0             1      start          1 2022-03-30 21:54:09.961799           \n",
       "1             2       read          1 2022-03-30 21:54:23.461799           \n",
       "2             3    process          1 2022-03-30 21:54:54.361799           \n",
       "3             4  summarise          1 2022-03-30 21:55:07.361799           \n",
       "4             1      start          2 2022-03-30 21:55:10.161799           \n",
       "\n",
       "   flag  duration hostset  \n",
       "0  -999       0.0     500  \n",
       "1  -999      13.5     500  \n",
       "2  -999      30.9     500  \n",
       "3  -999      13.0     500  \n",
       "4  -999       0.0     400  "
      ]
     },
     "execution_count": 19,
     "metadata": {},
     "output_type": "execute_result"
    }
   ],
   "source": [
    "df1.head()"
   ]
  },
  {
   "cell_type": "code",
   "execution_count": 20,
   "id": "cb5b5925-44a3-4895-b6a0-498d12420490",
   "metadata": {},
   "outputs": [],
   "source": [
    "def add_hostgroup_column(df):\n",
    "    return "
   ]
  },
  {
   "cell_type": "code",
   "execution_count": 21,
   "id": "2c1e1394-1695-436b-ad54-3747cc751af4",
   "metadata": {},
   "outputs": [
    {
     "name": "stderr",
     "output_type": "stream",
     "text": [
      "/tmp/ipykernel_533/3437850104.py:1: FutureWarning: Indexing with multiple keys (implicitly converted to a tuple of keys) will be deprecated, use a list instead.\n",
      "  boxplot = df1.groupby(\"hostset\")[(\"duration\", \"stage\")].boxplot(column=[\"duration\"]) #column=['Col1', 'Col2', 'Col3'])\n"
     ]
    },
    {
     "data": {
      "image/png": "[encoded data removed]",
      "text/plain": [
       "<Figure size 432x288 with 9 Axes>"
      ]
     },
     "metadata": {
      "needs_background": "light"
     },
     "output_type": "display_data"
    }
   ],
   "source": [
    "boxplot = df1.groupby(\"hostset\")[(\"duration\", \"stage\")].boxplot(column=[\"duration\"]) #column=['Col1', 'Col2', 'Col3'])"
   ]
  },
  {
   "cell_type": "code",
   "execution_count": 22,
   "id": "3b4037fc-45db-43f5-ba73-034e3214f506",
   "metadata": {},
   "outputs": [],
   "source": [
    "# Or, better in a single plot\n",
    "df1_stats = df1.loc[:, [\"stage_number\", \"stage\", \"hostset\", \"duration\"]].sort_values(\"stage_number\") #.drop(\"stage_number\")\n",
    "\n",
    "def get_stage_name(row):\n",
    "    return f\"{row.stage_number:02d}:{row.stage}\"\n",
    "\n",
    "df1_stats[\"stage_name\"] = df1_stats.apply(get_stage_name, axis=1)"
   ]
  },
  {
   "cell_type": "code",
   "execution_count": 23,
   "id": "1440313e-e006-42b3-a198-6011a93007b6",
   "metadata": {},
   "outputs": [
    {
     "data": {
      "text/plain": [
       "01:start             AxesSubplot(0.1,0.15;0.173913x0.75)\n",
       "02:read         AxesSubplot(0.308696,0.15;0.173913x0.75)\n",
       "03:process      AxesSubplot(0.517391,0.15;0.173913x0.75)\n",
       "04:summarise    AxesSubplot(0.726087,0.15;0.173913x0.75)\n",
       "dtype: object"
      ]
     },
     "execution_count": 23,
     "metadata": {},
     "output_type": "execute_result"
    },
    {
     "data": {
      "image/png": "[encoded data removed]",
      "text/plain": [
       "<Figure size 432x288 with 4 Axes>"
      ]
     },
     "metadata": {
      "needs_background": "light"
     },
     "output_type": "display_data"
    }
   ],
   "source": [
    "df1_stats.head()\n",
    "df1_stats.groupby([\"stage_name\"]).boxplot(column=[\"duration\"], by=\"stage_name\", layout=(1, 4))"
   ]
  },
  {
   "cell_type": "code",
   "execution_count": 24,
   "id": "d509a806-7fc5-4c1a-ad97-f031c7fccfea",
   "metadata": {},
   "outputs": [
    {
     "data": {
      "text/plain": [
       "01:start             AxesSubplot(0.1,0.15;0.173913x0.75)\n",
       "02:read         AxesSubplot(0.308696,0.15;0.173913x0.75)\n",
       "03:process      AxesSubplot(0.517391,0.15;0.173913x0.75)\n",
       "04:summarise    AxesSubplot(0.726087,0.15;0.173913x0.75)\n",
       "dtype: object"
      ]
     },
     "execution_count": 24,
     "metadata": {},
     "output_type": "execute_result"
    },
    {
     "data": {
      "image/png": "[encoded data removed]",
      "text/plain": [
       "<Figure size 864x576 with 4 Axes>"
      ]
     },
     "metadata": {
      "needs_background": "light"
     },
     "output_type": "display_data"
    }
   ],
   "source": [
    "df1_stats.groupby([\"stage_name\"]).boxplot(column=[\"duration\"], by=\"hostset\", layout=(1, 4), figsize=(12, 8))"
   ]
  },
  {
   "cell_type": "markdown",
   "id": "4b699a55-f9c0-4969-b4da-f88d4624ec3e",
   "metadata": {},
   "source": [
    "## Wow, the hostset 100-199 seems to have higher values!"
   ]
  },
  {
   "cell_type": "code",
   "execution_count": null,
   "id": "5e61d066-5136-4eca-9309-43b24ce0d482",
   "metadata": {},
   "outputs": [],
   "source": []
  }
 ],
 "metadata": {
  "kernelspec": {
   "display_name": "Python 3 + Jaspy",
   "language": "python",
   "name": "jaspy"
  },
  "language_info": {
   "codemirror_mode": {
    "name": "ipython",
    "version": 3
   },
   "file_extension": ".py",
   "mimetype": "text/x-python",
   "name": "python",
   "nbconvert_exporter": "python",
   "pygments_lexer": "ipython3",
   "version": "3.8.12"
  }
 },
 "nbformat": 4,
 "nbformat_minor": 5
}

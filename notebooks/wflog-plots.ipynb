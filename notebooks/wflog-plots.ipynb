{
 "cells": [
  {
   "cell_type": "markdown",
   "id": "b0520d3d-32d5-4ca1-ba7b-1f5be8d8eda3",
   "metadata": {},
   "source": [
    "# Plots from workflow logs\n",
    "\n",
    "This notebook demonstrates the use of `pandas` to analyse logs from the `wflogger` LOTUS workflow logging tool."
   ]
  },
  {
   "cell_type": "code",
   "execution_count": 24,
   "id": "432fff34-dcb7-47bc-ae37-8c8d28c4e838",
   "metadata": {},
   "outputs": [],
   "source": [
    "import sys\n",
    "sys.path.insert(0, \"..\")\n",
    "\n",
    "import wflogger.analysis as wfa\n",
    "\n",
    "# Reloading is required when developing the: wflogger.analysis library (but not in standard use)\n",
    "import importlib\n",
    "import wflogger.analysis\n",
    "wfa = importlib.reload(wflogger.analysis)"
   ]
  },
  {
   "cell_type": "markdown",
   "id": "46cebf4f-73d0-4970-b4d4-d5d4bb273e03",
   "metadata": {},
   "source": [
    "## Decide which workflow and tags you want to look at\n",
    "\n",
    "I want to compare two runs:\n",
    "\n"
   ]
  },
  {
   "cell_type": "code",
   "execution_count": 25,
   "id": "d71628dd-cebb-4bc3-83fb-40598b0b0f91",
   "metadata": {},
   "outputs": [],
   "source": [
    "sel_1 = {\n",
    "    \"workflow\": \"my-model-1\",\n",
    "    \"tag\": \"idl-version\"\n",
    "}\n",
    "\n",
    "sel_2 = {\n",
    "    \"workflow\": \"my-model-1\",\n",
    "    \"tag\": \"python-version\"\n",
    "}"
   ]
  },
  {
   "cell_type": "code",
   "execution_count": 26,
   "id": "74a42494-7ffc-41c0-bcc1-5f289205c740",
   "metadata": {},
   "outputs": [
    {
     "name": "stdout",
     "output_type": "stream",
     "text": [
      "Converted 800 records.\n",
      "Converted 1200 records.\n"
     ]
    }
   ],
   "source": [
    "df1 = wfa.get_results(workflow=sel_1[\"workflow\"], tag=sel_1[\"tag\"])\n",
    "df2 = wfa.get_results(workflow=sel_2[\"workflow\"], tag=sel_2[\"tag\"])"
   ]
  },
  {
   "cell_type": "code",
   "execution_count": 30,
   "id": "1dab7b04-2ccc-4739-981d-8eac692e1b79",
   "metadata": {
    "tags": []
   },
   "outputs": [
    {
     "data": {
      "text/html": [
       "<div>\n",
       "<style scoped>\n",
       "    .dataframe tbody tr th:only-of-type {\n",
       "        vertical-align: middle;\n",
       "    }\n",
       "\n",
       "    .dataframe tbody tr th {\n",
       "        vertical-align: top;\n",
       "    }\n",
       "\n",
       "    .dataframe thead th {\n",
       "        text-align: right;\n",
       "    }\n",
       "</style>\n",
       "<table border=\"1\" class=\"dataframe\">\n",
       "  <thead>\n",
       "    <tr style=\"text-align: right;\">\n",
       "      <th></th>\n",
       "      <th>id</th>\n",
       "      <th>user_id</th>\n",
       "      <th>hostname</th>\n",
       "      <th>workflow</th>\n",
       "      <th>tag</th>\n",
       "      <th>stage_number</th>\n",
       "      <th>stage</th>\n",
       "      <th>iteration</th>\n",
       "      <th>date_time</th>\n",
       "      <th>comment</th>\n",
       "      <th>flag</th>\n",
       "      <th>duration</th>\n",
       "    </tr>\n",
       "  </thead>\n",
       "  <tbody>\n",
       "    <tr>\n",
       "      <th>0</th>\n",
       "      <td>4964</td>\n",
       "      <td>astephen</td>\n",
       "      <td>host574.jc.rl.ac.uk</td>\n",
       "      <td>my-model-1</td>\n",
       "      <td>python-version</td>\n",
       "      <td>1</td>\n",
       "      <td>start</td>\n",
       "      <td>1</td>\n",
       "      <td>2022-03-22 13:24:54.625175</td>\n",
       "      <td></td>\n",
       "      <td>-999</td>\n",
       "      <td>0.0</td>\n",
       "    </tr>\n",
       "    <tr>\n",
       "      <th>1</th>\n",
       "      <td>4965</td>\n",
       "      <td>astephen</td>\n",
       "      <td>host574.jc.rl.ac.uk</td>\n",
       "      <td>my-model-1</td>\n",
       "      <td>python-version</td>\n",
       "      <td>2</td>\n",
       "      <td>read</td>\n",
       "      <td>1</td>\n",
       "      <td>2022-03-22 13:25:05.725175</td>\n",
       "      <td></td>\n",
       "      <td>-999</td>\n",
       "      <td>11.1</td>\n",
       "    </tr>\n",
       "    <tr>\n",
       "      <th>2</th>\n",
       "      <td>4966</td>\n",
       "      <td>astephen</td>\n",
       "      <td>host574.jc.rl.ac.uk</td>\n",
       "      <td>my-model-1</td>\n",
       "      <td>python-version</td>\n",
       "      <td>3</td>\n",
       "      <td>process</td>\n",
       "      <td>1</td>\n",
       "      <td>2022-03-22 13:25:17.725175</td>\n",
       "      <td></td>\n",
       "      <td>-999</td>\n",
       "      <td>12.0</td>\n",
       "    </tr>\n",
       "    <tr>\n",
       "      <th>3</th>\n",
       "      <td>4967</td>\n",
       "      <td>astephen</td>\n",
       "      <td>host574.jc.rl.ac.uk</td>\n",
       "      <td>my-model-1</td>\n",
       "      <td>python-version</td>\n",
       "      <td>4</td>\n",
       "      <td>summarise</td>\n",
       "      <td>1</td>\n",
       "      <td>2022-03-22 13:25:21.225175</td>\n",
       "      <td></td>\n",
       "      <td>-999</td>\n",
       "      <td>3.5</td>\n",
       "    </tr>\n",
       "    <tr>\n",
       "      <th>4</th>\n",
       "      <td>4968</td>\n",
       "      <td>astephen</td>\n",
       "      <td>host336.jc.rl.ac.uk</td>\n",
       "      <td>my-model-1</td>\n",
       "      <td>python-version</td>\n",
       "      <td>1</td>\n",
       "      <td>start</td>\n",
       "      <td>2</td>\n",
       "      <td>2022-03-22 13:25:21.925175</td>\n",
       "      <td></td>\n",
       "      <td>-999</td>\n",
       "      <td>0.0</td>\n",
       "    </tr>\n",
       "  </tbody>\n",
       "</table>\n",
       "</div>"
      ],
      "text/plain": [
       "     id   user_id             hostname    workflow             tag  \\\n",
       "0  4964  astephen  host574.jc.rl.ac.uk  my-model-1  python-version   \n",
       "1  4965  astephen  host574.jc.rl.ac.uk  my-model-1  python-version   \n",
       "2  4966  astephen  host574.jc.rl.ac.uk  my-model-1  python-version   \n",
       "3  4967  astephen  host574.jc.rl.ac.uk  my-model-1  python-version   \n",
       "4  4968  astephen  host336.jc.rl.ac.uk  my-model-1  python-version   \n",
       "\n",
       "   stage_number      stage  iteration                  date_time comment  \\\n",
       "0             1      start          1 2022-03-22 13:24:54.625175           \n",
       "1             2       read          1 2022-03-22 13:25:05.725175           \n",
       "2             3    process          1 2022-03-22 13:25:17.725175           \n",
       "3             4  summarise          1 2022-03-22 13:25:21.225175           \n",
       "4             1      start          2 2022-03-22 13:25:21.925175           \n",
       "\n",
       "   flag  duration  \n",
       "0  -999       0.0  \n",
       "1  -999      11.1  \n",
       "2  -999      12.0  \n",
       "3  -999       3.5  \n",
       "4  -999       0.0  "
      ]
     },
     "execution_count": 30,
     "metadata": {},
     "output_type": "execute_result"
    }
   ],
   "source": [
    "df2.head()"
   ]
  },
  {
   "cell_type": "code",
   "execution_count": 35,
   "id": "ea5612de-4876-4f30-bd30-127a7b75d87c",
   "metadata": {},
   "outputs": [],
   "source": [
    "wfa = importlib.reload(wflogger.analysis)"
   ]
  },
  {
   "cell_type": "markdown",
   "id": "e7ba53b7-bb21-4562-929a-0bb01ac5bd64",
   "metadata": {},
   "source": [
    "## Let's view the different tags in separate plots"
   ]
  },
  {
   "cell_type": "code",
   "execution_count": 36,
   "id": "209379c7-2145-44fd-ab2e-2f6ce2128572",
   "metadata": {},
   "outputs": [
    {
     "data": {
      "image/png": "[encoded data removed]",
      "text/plain": [
       "<Figure size 648x432 with 1 Axes>"
      ]
     },
     "metadata": {
      "needs_background": "light"
     },
     "output_type": "display_data"
    }
   ],
   "source": [
    "wfa.plot_stage_durations_by_iteration(df1)"
   ]
  },
  {
   "cell_type": "code",
   "execution_count": 37,
   "id": "86156273-c2f0-4e09-a608-b4b4cf7a69b7",
   "metadata": {},
   "outputs": [
    {
     "data": {
      "image/png": "[encoded data removed]",
      "text/plain": [
       "<Figure size 648x432 with 1 Axes>"
      ]
     },
     "metadata": {
      "needs_background": "light"
     },
     "output_type": "display_data"
    }
   ],
   "source": [
    "wfa.plot_stage_durations_by_iteration(df2)"
   ]
  },
  {
   "cell_type": "markdown",
   "id": "1b61a4ab-fde2-4e5d-9839-88b7bb781cd0",
   "metadata": {},
   "source": [
    "### Let's compare the maximum durations of each stage for each tag\n",
    "\n",
    "In order to view the differences better, we are plotting a log scale on the y-axis:"
   ]
  },
  {
   "cell_type": "code",
   "execution_count": 7,
   "id": "16c65133-1550-4760-b91e-c96e3a0b7f58",
   "metadata": {},
   "outputs": [
    {
     "name": "stdout",
     "output_type": "stream",
     "text": [
      "113.4\n"
     ]
    },
    {
     "data": {
      "image/png": "[encoded data removed]",
      "text/plain": [
       "<Figure size 864x432 with 1 Axes>"
      ]
     },
     "metadata": {
      "needs_background": "light"
     },
     "output_type": "display_data"
    }
   ],
   "source": [
    "wfa.plot_comparison_of_two_workflow_tags(df1, df2, \"max\", yscale=\"log\")"
   ]
  },
  {
   "cell_type": "markdown",
   "id": "5b9e2ee1-898b-408a-8abe-1fe9023a5309",
   "metadata": {},
   "source": [
    "### Let's look for outliers\n",
    "\n",
    "We can identify outliers as those beyond N standard deviations from the mean."
   ]
  },
  {
   "cell_type": "code",
   "execution_count": 8,
   "id": "be3d1f94-cc5e-4021-9d16-b1ac65072130",
   "metadata": {},
   "outputs": [],
   "source": [
    "import numpy as np\n",
    "\n",
    "def get_outliers(df, n_std_deviations=3):\n",
    "    return df[np.abs(df.duration - df.duration.mean()) <= (n_std_deviations * df.duration.std())]\n",
    "\n",
    "df1_outliers = get_outliers(df1)"
   ]
  },
  {
   "cell_type": "code",
   "execution_count": 9,
   "id": "10c68353-9d5d-48b6-be99-5959cff2009f",
   "metadata": {},
   "outputs": [
    {
     "name": "stdout",
     "output_type": "stream",
     "text": [
      "62.0\n",
      "5.157532467532467\n"
     ]
    }
   ],
   "source": [
    "df1_outliers.head()\n",
    "print(df1_outliers.iloc[3].duration)\n",
    "print(df1_outliers.duration.mean())"
   ]
  },
  {
   "cell_type": "markdown",
   "id": "ac271f80-70a2-4d2f-babe-0bddfec4b42b",
   "metadata": {},
   "source": [
    "Which hosts are the outliers on?"
   ]
  },
  {
   "cell_type": "code",
   "execution_count": 10,
   "id": "b94e265c-5b4f-43e3-972d-5c2ece905810",
   "metadata": {},
   "outputs": [
    {
     "name": "stdout",
     "output_type": "stream",
     "text": [
      "['host072.jc.rl.ac.uk', 'host073.jc.rl.ac.uk', 'host076.jc.rl.ac.uk', 'host078.jc.rl.ac.uk', 'host082.jc.rl.ac.uk', 'host086.jc.rl.ac.uk', 'host089.jc.rl.ac.uk', 'host094.jc.rl.ac.uk', 'host095.jc.rl.ac.uk', 'host106.jc.rl.ac.uk', 'host116.jc.rl.ac.uk', 'host117.jc.rl.ac.uk', 'host119.jc.rl.ac.uk', 'host120.jc.rl.ac.uk', 'host123.jc.rl.ac.uk', 'host126.jc.rl.ac.uk', 'host128.jc.rl.ac.uk', 'host134.jc.rl.ac.uk', 'host135.jc.rl.ac.uk', 'host139.jc.rl.ac.uk', 'host147.jc.rl.ac.uk', 'host148.jc.rl.ac.uk', 'host149.jc.rl.ac.uk', 'host153.jc.rl.ac.uk', 'host154.jc.rl.ac.uk', 'host157.jc.rl.ac.uk', 'host159.jc.rl.ac.uk', 'host161.jc.rl.ac.uk', 'host162.jc.rl.ac.uk', 'host166.jc.rl.ac.uk', 'host172.jc.rl.ac.uk', 'host175.jc.rl.ac.uk', 'host189.jc.rl.ac.uk', 'host191.jc.rl.ac.uk', 'host204.jc.rl.ac.uk', 'host207.jc.rl.ac.uk', 'host215.jc.rl.ac.uk', 'host221.jc.rl.ac.uk', 'host231.jc.rl.ac.uk', 'host243.jc.rl.ac.uk', 'host247.jc.rl.ac.uk', 'host250.jc.rl.ac.uk', 'host254.jc.rl.ac.uk', 'host256.jc.rl.ac.uk', 'host258.jc.rl.ac.uk', 'host260.jc.rl.ac.uk', 'host264.jc.rl.ac.uk', 'host266.jc.rl.ac.uk', 'host269.jc.rl.ac.uk', 'host270.jc.rl.ac.uk', 'host282.jc.rl.ac.uk', 'host291.jc.rl.ac.uk', 'host293.jc.rl.ac.uk', 'host294.jc.rl.ac.uk', 'host299.jc.rl.ac.uk', 'host300.jc.rl.ac.uk', 'host301.jc.rl.ac.uk', 'host303.jc.rl.ac.uk', 'host305.jc.rl.ac.uk', 'host307.jc.rl.ac.uk', 'host308.jc.rl.ac.uk', 'host310.jc.rl.ac.uk', 'host311.jc.rl.ac.uk', 'host313.jc.rl.ac.uk', 'host318.jc.rl.ac.uk', 'host320.jc.rl.ac.uk', 'host321.jc.rl.ac.uk', 'host322.jc.rl.ac.uk', 'host324.jc.rl.ac.uk', 'host329.jc.rl.ac.uk', 'host331.jc.rl.ac.uk', 'host333.jc.rl.ac.uk', 'host335.jc.rl.ac.uk', 'host336.jc.rl.ac.uk', 'host339.jc.rl.ac.uk', 'host346.jc.rl.ac.uk', 'host347.jc.rl.ac.uk', 'host348.jc.rl.ac.uk', 'host349.jc.rl.ac.uk', 'host350.jc.rl.ac.uk', 'host356.jc.rl.ac.uk', 'host358.jc.rl.ac.uk', 'host366.jc.rl.ac.uk', 'host368.jc.rl.ac.uk', 'host370.jc.rl.ac.uk', 'host376.jc.rl.ac.uk', 'host380.jc.rl.ac.uk', 'host381.jc.rl.ac.uk', 'host388.jc.rl.ac.uk', 'host392.jc.rl.ac.uk', 'host393.jc.rl.ac.uk', 'host394.jc.rl.ac.uk', 'host396.jc.rl.ac.uk', 'host399.jc.rl.ac.uk', 'host407.jc.rl.ac.uk', 'host420.jc.rl.ac.uk', 'host421.jc.rl.ac.uk', 'host423.jc.rl.ac.uk', 'host427.jc.rl.ac.uk', 'host430.jc.rl.ac.uk', 'host439.jc.rl.ac.uk', 'host442.jc.rl.ac.uk', 'host446.jc.rl.ac.uk', 'host454.jc.rl.ac.uk', 'host461.jc.rl.ac.uk', 'host463.jc.rl.ac.uk', 'host466.jc.rl.ac.uk', 'host473.jc.rl.ac.uk', 'host474.jc.rl.ac.uk', 'host477.jc.rl.ac.uk', 'host479.jc.rl.ac.uk', 'host480.jc.rl.ac.uk', 'host482.jc.rl.ac.uk', 'host501.jc.rl.ac.uk', 'host503.jc.rl.ac.uk', 'host511.jc.rl.ac.uk', 'host514.jc.rl.ac.uk', 'host515.jc.rl.ac.uk', 'host521.jc.rl.ac.uk', 'host524.jc.rl.ac.uk', 'host526.jc.rl.ac.uk', 'host530.jc.rl.ac.uk', 'host535.jc.rl.ac.uk', 'host536.jc.rl.ac.uk', 'host537.jc.rl.ac.uk', 'host538.jc.rl.ac.uk', 'host544.jc.rl.ac.uk', 'host546.jc.rl.ac.uk', 'host547.jc.rl.ac.uk', 'host548.jc.rl.ac.uk', 'host550.jc.rl.ac.uk', 'host552.jc.rl.ac.uk', 'host554.jc.rl.ac.uk', 'host561.jc.rl.ac.uk', 'host567.jc.rl.ac.uk', 'host574.jc.rl.ac.uk', 'host576.jc.rl.ac.uk', 'host577.jc.rl.ac.uk', 'host579.jc.rl.ac.uk', 'host582.jc.rl.ac.uk', 'host594.jc.rl.ac.uk', 'host600.jc.rl.ac.uk', 'host606.jc.rl.ac.uk', 'host607.jc.rl.ac.uk', 'host614.jc.rl.ac.uk', 'host617.jc.rl.ac.uk', 'host618.jc.rl.ac.uk', 'host619.jc.rl.ac.uk', 'host623.jc.rl.ac.uk', 'host626.jc.rl.ac.uk', 'host630.jc.rl.ac.uk', 'host635.jc.rl.ac.uk', 'host643.jc.rl.ac.uk', 'host644.jc.rl.ac.uk', 'host653.jc.rl.ac.uk', 'host654.jc.rl.ac.uk', 'host659.jc.rl.ac.uk', 'host666.jc.rl.ac.uk', 'host668.jc.rl.ac.uk', 'host677.jc.rl.ac.uk', 'host683.jc.rl.ac.uk', 'host684.jc.rl.ac.uk', 'host685.jc.rl.ac.uk', 'host687.jc.rl.ac.uk', 'host693.jc.rl.ac.uk', 'host694.jc.rl.ac.uk', 'host699.jc.rl.ac.uk', 'host700.jc.rl.ac.uk']\n"
     ]
    }
   ],
   "source": [
    "print(sorted(df1_outliers.hostname.unique()))"
   ]
  },
  {
   "cell_type": "code",
   "execution_count": 11,
   "id": "e28d9052-a1f4-4ced-ab90-a7a27a0dd687",
   "metadata": {},
   "outputs": [
    {
     "data": {
      "text/plain": [
       "host503.jc.rl.ac.uk    16\n",
       "host311.jc.rl.ac.uk    12\n",
       "host149.jc.rl.ac.uk    12\n",
       "host526.jc.rl.ac.uk     8\n",
       "host256.jc.rl.ac.uk     8\n",
       "                       ..\n",
       "host106.jc.rl.ac.uk     1\n",
       "host117.jc.rl.ac.uk     1\n",
       "host119.jc.rl.ac.uk     1\n",
       "host126.jc.rl.ac.uk     1\n",
       "host123.jc.rl.ac.uk     1\n",
       "Name: hostname, Length: 168, dtype: int64"
      ]
     },
     "execution_count": 11,
     "metadata": {},
     "output_type": "execute_result"
    }
   ],
   "source": [
    "df1_outliers[\"hostname\"].value_counts().sort_values(ascending=False)"
   ]
  },
  {
   "cell_type": "code",
   "execution_count": 12,
   "id": "403866d5-3725-4878-a76c-61284c91a70c",
   "metadata": {},
   "outputs": [
    {
     "data": {
      "text/html": [
       "<div>\n",
       "<style scoped>\n",
       "    .dataframe tbody tr th:only-of-type {\n",
       "        vertical-align: middle;\n",
       "    }\n",
       "\n",
       "    .dataframe tbody tr th {\n",
       "        vertical-align: top;\n",
       "    }\n",
       "\n",
       "    .dataframe thead th {\n",
       "        text-align: right;\n",
       "    }\n",
       "</style>\n",
       "<table border=\"1\" class=\"dataframe\">\n",
       "  <thead>\n",
       "    <tr style=\"text-align: right;\">\n",
       "      <th></th>\n",
       "      <th>hostname</th>\n",
       "      <th>duration</th>\n",
       "    </tr>\n",
       "  </thead>\n",
       "  <tbody>\n",
       "    <tr>\n",
       "      <th>543</th>\n",
       "      <td>host166.jc.rl.ac.uk</td>\n",
       "      <td>68.0</td>\n",
       "    </tr>\n",
       "    <tr>\n",
       "      <th>3</th>\n",
       "      <td>host095.jc.rl.ac.uk</td>\n",
       "      <td>62.0</td>\n",
       "    </tr>\n",
       "    <tr>\n",
       "      <th>549</th>\n",
       "      <td>host618.jc.rl.ac.uk</td>\n",
       "      <td>45.0</td>\n",
       "    </tr>\n",
       "    <tr>\n",
       "      <th>438</th>\n",
       "      <td>host421.jc.rl.ac.uk</td>\n",
       "      <td>14.0</td>\n",
       "    </tr>\n",
       "    <tr>\n",
       "      <th>342</th>\n",
       "      <td>host442.jc.rl.ac.uk</td>\n",
       "      <td>13.8</td>\n",
       "    </tr>\n",
       "    <tr>\n",
       "      <th>...</th>\n",
       "      <td>...</td>\n",
       "      <td>...</td>\n",
       "    </tr>\n",
       "    <tr>\n",
       "      <th>236</th>\n",
       "      <td>host668.jc.rl.ac.uk</td>\n",
       "      <td>0.0</td>\n",
       "    </tr>\n",
       "    <tr>\n",
       "      <th>588</th>\n",
       "      <td>host576.jc.rl.ac.uk</td>\n",
       "      <td>0.0</td>\n",
       "    </tr>\n",
       "    <tr>\n",
       "      <th>232</th>\n",
       "      <td>host162.jc.rl.ac.uk</td>\n",
       "      <td>0.0</td>\n",
       "    </tr>\n",
       "    <tr>\n",
       "      <th>592</th>\n",
       "      <td>host538.jc.rl.ac.uk</td>\n",
       "      <td>0.0</td>\n",
       "    </tr>\n",
       "    <tr>\n",
       "      <th>0</th>\n",
       "      <td>host095.jc.rl.ac.uk</td>\n",
       "      <td>0.0</td>\n",
       "    </tr>\n",
       "  </tbody>\n",
       "</table>\n",
       "<p>770 rows × 2 columns</p>\n",
       "</div>"
      ],
      "text/plain": [
       "                hostname  duration\n",
       "543  host166.jc.rl.ac.uk      68.0\n",
       "3    host095.jc.rl.ac.uk      62.0\n",
       "549  host618.jc.rl.ac.uk      45.0\n",
       "438  host421.jc.rl.ac.uk      14.0\n",
       "342  host442.jc.rl.ac.uk      13.8\n",
       "..                   ...       ...\n",
       "236  host668.jc.rl.ac.uk       0.0\n",
       "588  host576.jc.rl.ac.uk       0.0\n",
       "232  host162.jc.rl.ac.uk       0.0\n",
       "592  host538.jc.rl.ac.uk       0.0\n",
       "0    host095.jc.rl.ac.uk       0.0\n",
       "\n",
       "[770 rows x 2 columns]"
      ]
     },
     "execution_count": 12,
     "metadata": {},
     "output_type": "execute_result"
    }
   ],
   "source": [
    "df1_outliers.loc[:, [\"hostname\", \"duration\"]].sort_values(\"duration\", ascending=False)"
   ]
  },
  {
   "cell_type": "code",
   "execution_count": 13,
   "id": "93c236d1-0e78-407e-9802-50c809b5eeaf",
   "metadata": {},
   "outputs": [
    {
     "data": {
      "image/png": "[encoded data removed]",
      "text/plain": [
       "<Figure size 432x288 with 1 Axes>"
      ]
     },
     "metadata": {
      "needs_background": "light"
     },
     "output_type": "display_data"
    }
   ],
   "source": [
    "wfa.plot_bar_chart_comparing_tags(df1, df2)"
   ]
  },
  {
   "cell_type": "markdown",
   "id": "68861053-b373-4cfc-aa68-990ce55d5ca7",
   "metadata": {},
   "source": [
    "## Next thoughts\n",
    "\n",
    "Some things we can do with hostname:\n",
    " 1. Look at outliers and whether certain hosts are the problem\n",
    " 2. Add host groups to the dataframes:\n",
    "   - by architecture?\n",
    "   - by numbered groups: e.g. `host100-199`, `host200-299`, etc.\n",
    " 3. Then compare the durations by different groups."
   ]
  },
  {
   "cell_type": "code",
   "execution_count": 38,
   "id": "23ba1771-ce17-462b-a9a5-92462e1c8f26",
   "metadata": {},
   "outputs": [],
   "source": [
    "# some testing...\n",
    "def add_hostset_column(df):\n",
    "    df[\"hostset\"] = df[\"hostname\"].str[4] + \"00\"\n",
    "    \n",
    "add_hostset_column(df1)"
   ]
  },
  {
   "cell_type": "code",
   "execution_count": 39,
   "id": "1f4415f5-cd4d-46e6-bf8a-fd46bf9008e8",
   "metadata": {},
   "outputs": [
    {
     "data": {
      "text/html": [
       "<div>\n",
       "<style scoped>\n",
       "    .dataframe tbody tr th:only-of-type {\n",
       "        vertical-align: middle;\n",
       "    }\n",
       "\n",
       "    .dataframe tbody tr th {\n",
       "        vertical-align: top;\n",
       "    }\n",
       "\n",
       "    .dataframe thead th {\n",
       "        text-align: right;\n",
       "    }\n",
       "</style>\n",
       "<table border=\"1\" class=\"dataframe\">\n",
       "  <thead>\n",
       "    <tr style=\"text-align: right;\">\n",
       "      <th></th>\n",
       "      <th>id</th>\n",
       "      <th>user_id</th>\n",
       "      <th>hostname</th>\n",
       "      <th>workflow</th>\n",
       "      <th>tag</th>\n",
       "      <th>stage_number</th>\n",
       "      <th>stage</th>\n",
       "      <th>iteration</th>\n",
       "      <th>date_time</th>\n",
       "      <th>comment</th>\n",
       "      <th>flag</th>\n",
       "      <th>duration</th>\n",
       "      <th>hostset</th>\n",
       "    </tr>\n",
       "  </thead>\n",
       "  <tbody>\n",
       "    <tr>\n",
       "      <th>0</th>\n",
       "      <td>4164</td>\n",
       "      <td>astephen</td>\n",
       "      <td>host095.jc.rl.ac.uk</td>\n",
       "      <td>my-model-1</td>\n",
       "      <td>idl-version</td>\n",
       "      <td>1</td>\n",
       "      <td>start</td>\n",
       "      <td>1</td>\n",
       "      <td>2022-03-22 11:02:19.205175</td>\n",
       "      <td></td>\n",
       "      <td>-999</td>\n",
       "      <td>0.0</td>\n",
       "      <td>000</td>\n",
       "    </tr>\n",
       "    <tr>\n",
       "      <th>1</th>\n",
       "      <td>4165</td>\n",
       "      <td>astephen</td>\n",
       "      <td>host095.jc.rl.ac.uk</td>\n",
       "      <td>my-model-1</td>\n",
       "      <td>idl-version</td>\n",
       "      <td>2</td>\n",
       "      <td>read</td>\n",
       "      <td>1</td>\n",
       "      <td>2022-03-22 11:02:21.105175</td>\n",
       "      <td></td>\n",
       "      <td>-999</td>\n",
       "      <td>1.9</td>\n",
       "      <td>000</td>\n",
       "    </tr>\n",
       "    <tr>\n",
       "      <th>2</th>\n",
       "      <td>4166</td>\n",
       "      <td>astephen</td>\n",
       "      <td>host095.jc.rl.ac.uk</td>\n",
       "      <td>my-model-1</td>\n",
       "      <td>idl-version</td>\n",
       "      <td>3</td>\n",
       "      <td>process</td>\n",
       "      <td>1</td>\n",
       "      <td>2022-03-22 11:02:31.105175</td>\n",
       "      <td></td>\n",
       "      <td>-999</td>\n",
       "      <td>10.0</td>\n",
       "      <td>000</td>\n",
       "    </tr>\n",
       "    <tr>\n",
       "      <th>3</th>\n",
       "      <td>4167</td>\n",
       "      <td>astephen</td>\n",
       "      <td>host095.jc.rl.ac.uk</td>\n",
       "      <td>my-model-1</td>\n",
       "      <td>idl-version</td>\n",
       "      <td>4</td>\n",
       "      <td>summarise</td>\n",
       "      <td>1</td>\n",
       "      <td>2022-03-22 11:03:33.105175</td>\n",
       "      <td></td>\n",
       "      <td>-999</td>\n",
       "      <td>62.0</td>\n",
       "      <td>000</td>\n",
       "    </tr>\n",
       "    <tr>\n",
       "      <th>4</th>\n",
       "      <td>4168</td>\n",
       "      <td>astephen</td>\n",
       "      <td>host134.jc.rl.ac.uk</td>\n",
       "      <td>my-model-1</td>\n",
       "      <td>idl-version</td>\n",
       "      <td>1</td>\n",
       "      <td>start</td>\n",
       "      <td>2</td>\n",
       "      <td>2022-03-22 11:03:33.605175</td>\n",
       "      <td></td>\n",
       "      <td>-999</td>\n",
       "      <td>0.0</td>\n",
       "      <td>100</td>\n",
       "    </tr>\n",
       "  </tbody>\n",
       "</table>\n",
       "</div>"
      ],
      "text/plain": [
       "     id   user_id             hostname    workflow          tag  stage_number  \\\n",
       "0  4164  astephen  host095.jc.rl.ac.uk  my-model-1  idl-version             1   \n",
       "1  4165  astephen  host095.jc.rl.ac.uk  my-model-1  idl-version             2   \n",
       "2  4166  astephen  host095.jc.rl.ac.uk  my-model-1  idl-version             3   \n",
       "3  4167  astephen  host095.jc.rl.ac.uk  my-model-1  idl-version             4   \n",
       "4  4168  astephen  host134.jc.rl.ac.uk  my-model-1  idl-version             1   \n",
       "\n",
       "       stage  iteration                  date_time comment  flag  duration  \\\n",
       "0      start          1 2022-03-22 11:02:19.205175          -999       0.0   \n",
       "1       read          1 2022-03-22 11:02:21.105175          -999       1.9   \n",
       "2    process          1 2022-03-22 11:02:31.105175          -999      10.0   \n",
       "3  summarise          1 2022-03-22 11:03:33.105175          -999      62.0   \n",
       "4      start          2 2022-03-22 11:03:33.605175          -999       0.0   \n",
       "\n",
       "  hostset  \n",
       "0     000  \n",
       "1     000  \n",
       "2     000  \n",
       "3     000  \n",
       "4     100  "
      ]
     },
     "execution_count": 39,
     "metadata": {},
     "output_type": "execute_result"
    }
   ],
   "source": [
    "df1.head()"
   ]
  },
  {
   "cell_type": "code",
   "execution_count": 17,
   "id": "cb5b5925-44a3-4895-b6a0-498d12420490",
   "metadata": {},
   "outputs": [],
   "source": [
    "def add_hostgroup_column(df):\n",
    "    return "
   ]
  },
  {
   "cell_type": "code",
   "execution_count": 19,
   "id": "2c1e1394-1695-436b-ad54-3747cc751af4",
   "metadata": {},
   "outputs": [
    {
     "name": "stderr",
     "output_type": "stream",
     "text": [
      "/tmp/ipykernel_513/3437850104.py:1: FutureWarning: Indexing with multiple keys (implicitly converted to a tuple of keys) will be deprecated, use a list instead.\n",
      "  boxplot = df1.groupby(\"hostset\")[(\"duration\", \"stage\")].boxplot(column=[\"duration\"]) #column=['Col1', 'Col2', 'Col3'])\n"
     ]
    },
    {
     "data": {
      "image/png": "[encoded data removed]",
      "text/plain": [
       "<Figure size 432x288 with 9 Axes>"
      ]
     },
     "metadata": {
      "needs_background": "light"
     },
     "output_type": "display_data"
    }
   ],
   "source": [
    "boxplot = df1.groupby(\"hostset\")[(\"duration\", \"stage\")].boxplot(column=[\"duration\"]) #column=['Col1', 'Col2', 'Col3'])"
   ]
  },
  {
   "cell_type": "code",
   "execution_count": 20,
   "id": "3b4037fc-45db-43f5-ba73-034e3214f506",
   "metadata": {},
   "outputs": [],
   "source": [
    "# Or, better in a single plot\n",
    "df1_stats = df1.loc[:, [\"stage_number\", \"stage\", \"hostset\", \"duration\"]].sort_values(\"stage_number\") #.drop(\"stage_number\")\n",
    "\n",
    "def get_stage_name(row):\n",
    "    return f\"{row.stage_number:02d}:{row.stage}\"\n",
    "\n",
    "df1_stats[\"stage_name\"] = df1_stats.apply(get_stage_name, axis=1)"
   ]
  },
  {
   "cell_type": "code",
   "execution_count": 21,
   "id": "1440313e-e006-42b3-a198-6011a93007b6",
   "metadata": {},
   "outputs": [
    {
     "data": {
      "text/plain": [
       "01:start             AxesSubplot(0.1,0.15;0.173913x0.75)\n",
       "02:read         AxesSubplot(0.308696,0.15;0.173913x0.75)\n",
       "03:process      AxesSubplot(0.517391,0.15;0.173913x0.75)\n",
       "04:summarise    AxesSubplot(0.726087,0.15;0.173913x0.75)\n",
       "dtype: object"
      ]
     },
     "execution_count": 21,
     "metadata": {},
     "output_type": "execute_result"
    },
    {
     "data": {
      "image/png": "[encoded data removed]",
      "text/plain": [
       "<Figure size 432x288 with 4 Axes>"
      ]
     },
     "metadata": {
      "needs_background": "light"
     },
     "output_type": "display_data"
    }
   ],
   "source": [
    "df1_stats.head()\n",
    "df1_stats.groupby([\"stage_name\"]).boxplot(column=[\"duration\"], by=\"stage_name\", layout=(1, 4))"
   ]
  },
  {
   "cell_type": "code",
   "execution_count": 22,
   "id": "d509a806-7fc5-4c1a-ad97-f031c7fccfea",
   "metadata": {},
   "outputs": [
    {
     "data": {
      "text/plain": [
       "01:start             AxesSubplot(0.1,0.15;0.173913x0.75)\n",
       "02:read         AxesSubplot(0.308696,0.15;0.173913x0.75)\n",
       "03:process      AxesSubplot(0.517391,0.15;0.173913x0.75)\n",
       "04:summarise    AxesSubplot(0.726087,0.15;0.173913x0.75)\n",
       "dtype: object"
      ]
     },
     "execution_count": 22,
     "metadata": {},
     "output_type": "execute_result"
    },
    {
     "data": {
      "image/png": "[encoded data removed]",
      "text/plain": [
       "<Figure size 864x576 with 4 Axes>"
      ]
     },
     "metadata": {
      "needs_background": "light"
     },
     "output_type": "display_data"
    }
   ],
   "source": [
    "df1_stats.groupby([\"stage_name\"]).boxplot(column=[\"duration\"], by=\"hostset\", layout=(1, 4), figsize=(12, 8))"
   ]
  },
  {
   "cell_type": "markdown",
   "id": "4b699a55-f9c0-4969-b4da-f88d4624ec3e",
   "metadata": {},
   "source": [
    "## Wow, the hostset 100-199 seems to have higher values!"
   ]
  },
  {
   "cell_type": "code",
   "execution_count": null,
   "id": "5e61d066-5136-4eca-9309-43b24ce0d482",
   "metadata": {},
   "outputs": [],
   "source": []
  }
 ],
 "metadata": {
  "kernelspec": {
   "display_name": "Python 3 + Jaspy",
   "language": "python",
   "name": "jaspy"
  },
  "language_info": {
   "codemirror_mode": {
    "name": "ipython",
    "version": 3
   },
   "file_extension": ".py",
   "mimetype": "text/x-python",
   "name": "python",
   "nbconvert_exporter": "python",
   "pygments_lexer": "ipython3",
   "version": "3.8.12"
  }
 },
 "nbformat": 4,
 "nbformat_minor": 5
}
